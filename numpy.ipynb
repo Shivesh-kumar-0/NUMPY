{
 "cells": [
  {
   "cell_type": "code",
   "execution_count": 1,
   "id": "c6799a0b",
   "metadata": {},
   "outputs": [],
   "source": [
    "import numpy as np"
   ]
  },
  {
   "cell_type": "markdown",
   "id": "fb19c498",
   "metadata": {},
   "source": [
    "# CREATING ARRAY"
   ]
  },
  {
   "cell_type": "code",
   "execution_count": 54,
   "id": "b09412af",
   "metadata": {},
   "outputs": [],
   "source": [
    "array = np.array([1,2,3,4,5,6,7,8])"
   ]
  },
  {
   "cell_type": "code",
   "execution_count": 55,
   "id": "2b343340",
   "metadata": {},
   "outputs": [
    {
     "name": "stdout",
     "output_type": "stream",
     "text": [
      "[1 2 3 4 5 6 7 8]\n"
     ]
    }
   ],
   "source": [
    "print(array)"
   ]
  },
  {
   "cell_type": "markdown",
   "id": "287fc5a2",
   "metadata": {},
   "source": [
    "# CREATING MATRIX"
   ]
  },
  {
   "cell_type": "code",
   "execution_count": 15,
   "id": "e3a17220",
   "metadata": {},
   "outputs": [],
   "source": [
    "matrix = np.array([[1,2,3],[4,5,6],[7,8,9]])"
   ]
  },
  {
   "cell_type": "code",
   "execution_count": 16,
   "id": "bf386ea6",
   "metadata": {},
   "outputs": [
    {
     "data": {
      "text/plain": [
       "array([[1, 2, 3],\n",
       "       [4, 5, 6],\n",
       "       [7, 8, 9]])"
      ]
     },
     "execution_count": 16,
     "metadata": {},
     "output_type": "execute_result"
    }
   ],
   "source": [
    "matrix"
   ]
  },
  {
   "cell_type": "markdown",
   "id": "4feba314",
   "metadata": {},
   "source": [
    "# TRANSPOSING MATRIX"
   ]
  },
  {
   "cell_type": "code",
   "execution_count": 20,
   "id": "88b465d2",
   "metadata": {},
   "outputs": [
    {
     "data": {
      "text/plain": [
       "array([[1, 4, 7],\n",
       "       [2, 5, 8],\n",
       "       [3, 6, 9]])"
      ]
     },
     "execution_count": 20,
     "metadata": {},
     "output_type": "execute_result"
    }
   ],
   "source": [
    "matrix.T"
   ]
  },
  {
   "cell_type": "markdown",
   "id": "1ed7700b",
   "metadata": {},
   "source": [
    "# SQUARE OF NUMBERS"
   ]
  },
  {
   "cell_type": "code",
   "execution_count": 25,
   "id": "9a68b7d4",
   "metadata": {},
   "outputs": [],
   "source": [
    "#underroot of 25\n",
    "square = np.sqrt(25)"
   ]
  },
  {
   "cell_type": "code",
   "execution_count": 26,
   "id": "afe7b552",
   "metadata": {},
   "outputs": [
    {
     "data": {
      "text/plain": [
       "5.0"
      ]
     },
     "execution_count": 26,
     "metadata": {},
     "output_type": "execute_result"
    }
   ],
   "source": [
    "square"
   ]
  },
  {
   "cell_type": "code",
   "execution_count": 144,
   "id": "d7cb75df",
   "metadata": {},
   "outputs": [],
   "source": [
    "square1 = np.square(5)"
   ]
  },
  {
   "cell_type": "code",
   "execution_count": 145,
   "id": "c6d07b0e",
   "metadata": {},
   "outputs": [
    {
     "data": {
      "text/plain": [
       "25"
      ]
     },
     "execution_count": 145,
     "metadata": {},
     "output_type": "execute_result"
    }
   ],
   "source": [
    "square1"
   ]
  },
  {
   "cell_type": "markdown",
   "id": "3099331f",
   "metadata": {},
   "source": [
    "# ARRANGE NUMBERS"
   ]
  },
  {
   "cell_type": "code",
   "execution_count": 28,
   "id": "b66aee87",
   "metadata": {},
   "outputs": [],
   "source": [
    "arrange = np.arange(1,100)"
   ]
  },
  {
   "cell_type": "code",
   "execution_count": 29,
   "id": "6ba3e0b5",
   "metadata": {},
   "outputs": [
    {
     "data": {
      "text/plain": [
       "array([ 1,  2,  3,  4,  5,  6,  7,  8,  9, 10, 11, 12, 13, 14, 15, 16, 17,\n",
       "       18, 19, 20, 21, 22, 23, 24, 25, 26, 27, 28, 29, 30, 31, 32, 33, 34,\n",
       "       35, 36, 37, 38, 39, 40, 41, 42, 43, 44, 45, 46, 47, 48, 49, 50, 51,\n",
       "       52, 53, 54, 55, 56, 57, 58, 59, 60, 61, 62, 63, 64, 65, 66, 67, 68,\n",
       "       69, 70, 71, 72, 73, 74, 75, 76, 77, 78, 79, 80, 81, 82, 83, 84, 85,\n",
       "       86, 87, 88, 89, 90, 91, 92, 93, 94, 95, 96, 97, 98, 99])"
      ]
     },
     "execution_count": 29,
     "metadata": {},
     "output_type": "execute_result"
    }
   ],
   "source": [
    "arrange"
   ]
  },
  {
   "cell_type": "markdown",
   "id": "971dbe3a",
   "metadata": {},
   "source": [
    "# LINESPACE"
   ]
  },
  {
   "cell_type": "code",
   "execution_count": 30,
   "id": "fa70aeb8",
   "metadata": {},
   "outputs": [],
   "source": [
    "linespace = np.linspace(1,10,2)"
   ]
  },
  {
   "cell_type": "code",
   "execution_count": 31,
   "id": "5800852c",
   "metadata": {},
   "outputs": [
    {
     "data": {
      "text/plain": [
       "array([ 1., 10.])"
      ]
     },
     "execution_count": 31,
     "metadata": {},
     "output_type": "execute_result"
    }
   ],
   "source": [
    "linespace"
   ]
  },
  {
   "cell_type": "markdown",
   "id": "78642a6a",
   "metadata": {},
   "source": [
    "# RESHAPING"
   ]
  },
  {
   "cell_type": "code",
   "execution_count": 57,
   "id": "8dbec0c0",
   "metadata": {},
   "outputs": [
    {
     "data": {
      "text/plain": [
       "array([[1, 2],\n",
       "       [3, 4],\n",
       "       [5, 6],\n",
       "       [7, 8]])"
      ]
     },
     "execution_count": 57,
     "metadata": {},
     "output_type": "execute_result"
    }
   ],
   "source": [
    "#we do reshping of arrays to shape it into matrix form\n",
    "array.reshape(4,2)"
   ]
  },
  {
   "cell_type": "markdown",
   "id": "18ea6098",
   "metadata": {},
   "source": [
    "# ZEROS"
   ]
  },
  {
   "cell_type": "code",
   "execution_count": 49,
   "id": "6a2c4a68",
   "metadata": {},
   "outputs": [],
   "source": [
    "zeros = np.zeros([4,4])"
   ]
  },
  {
   "cell_type": "code",
   "execution_count": 42,
   "id": "1183052e",
   "metadata": {},
   "outputs": [
    {
     "data": {
      "text/plain": [
       "array([[0., 0., 0., 0.],\n",
       "       [0., 0., 0., 0.],\n",
       "       [0., 0., 0., 0.],\n",
       "       [0., 0., 0., 0.]])"
      ]
     },
     "execution_count": 42,
     "metadata": {},
     "output_type": "execute_result"
    }
   ],
   "source": [
    "zeros"
   ]
  },
  {
   "cell_type": "markdown",
   "id": "808fb59a",
   "metadata": {},
   "source": [
    "# ONES"
   ]
  },
  {
   "cell_type": "code",
   "execution_count": 37,
   "id": "48c2bde6",
   "metadata": {},
   "outputs": [],
   "source": [
    "ones = np.ones([4,5])"
   ]
  },
  {
   "cell_type": "code",
   "execution_count": 38,
   "id": "0e66845a",
   "metadata": {},
   "outputs": [
    {
     "data": {
      "text/plain": [
       "array([[1., 1., 1., 1., 1.],\n",
       "       [1., 1., 1., 1., 1.],\n",
       "       [1., 1., 1., 1., 1.],\n",
       "       [1., 1., 1., 1., 1.]])"
      ]
     },
     "execution_count": 38,
     "metadata": {},
     "output_type": "execute_result"
    }
   ],
   "source": [
    "ones"
   ]
  },
  {
   "cell_type": "markdown",
   "id": "c655ea05",
   "metadata": {},
   "source": [
    "# IDENTITY MATRIX"
   ]
  },
  {
   "cell_type": "code",
   "execution_count": 46,
   "id": "cde0a81e",
   "metadata": {},
   "outputs": [],
   "source": [
    "ident = np.eye(5,4)"
   ]
  },
  {
   "cell_type": "code",
   "execution_count": 47,
   "id": "cede8367",
   "metadata": {},
   "outputs": [
    {
     "data": {
      "text/plain": [
       "array([[1., 0., 0., 0.],\n",
       "       [0., 1., 0., 0.],\n",
       "       [0., 0., 1., 0.],\n",
       "       [0., 0., 0., 1.],\n",
       "       [0., 0., 0., 0.]])"
      ]
     },
     "execution_count": 47,
     "metadata": {},
     "output_type": "execute_result"
    }
   ],
   "source": [
    "ident"
   ]
  },
  {
   "cell_type": "markdown",
   "id": "d1aa5c61",
   "metadata": {},
   "source": [
    "# UNIQUE"
   ]
  },
  {
   "cell_type": "code",
   "execution_count": 59,
   "id": "71786393",
   "metadata": {},
   "outputs": [],
   "source": [
    "variable = np.array([1,2,3,4,3,2,1,4,\"john\",\"love\",\"got\",\"love\",\"dare\"])"
   ]
  },
  {
   "cell_type": "code",
   "execution_count": 60,
   "id": "94692e7a",
   "metadata": {},
   "outputs": [
    {
     "data": {
      "text/plain": [
       "array(['1', '2', '3', '4', '3', '2', '1', '4', 'john', 'love', 'got',\n",
       "       'love', 'dare'], dtype='<U11')"
      ]
     },
     "execution_count": 60,
     "metadata": {},
     "output_type": "execute_result"
    }
   ],
   "source": [
    "variable"
   ]
  },
  {
   "cell_type": "code",
   "execution_count": 61,
   "id": "68c131fa",
   "metadata": {},
   "outputs": [
    {
     "data": {
      "text/plain": [
       "array(['1', '2', '3', '4', 'dare', 'got', 'john', 'love'], dtype='<U11')"
      ]
     },
     "execution_count": 61,
     "metadata": {},
     "output_type": "execute_result"
    }
   ],
   "source": [
    "np.unique(variable)"
   ]
  },
  {
   "cell_type": "markdown",
   "id": "73a6481d",
   "metadata": {},
   "source": [
    "# mathematical operations of 2 arrays"
   ]
  },
  {
   "cell_type": "code",
   "execution_count": 62,
   "id": "5dc81ace",
   "metadata": {},
   "outputs": [],
   "source": [
    "array2 = np.array([4,5,6,7,2,7,4,8])"
   ]
  },
  {
   "cell_type": "code",
   "execution_count": 66,
   "id": "1af2d7e9",
   "metadata": {},
   "outputs": [],
   "source": [
    "array3 = array+array2"
   ]
  },
  {
   "cell_type": "code",
   "execution_count": 67,
   "id": "360816e4",
   "metadata": {},
   "outputs": [
    {
     "data": {
      "text/plain": [
       "array([ 5,  7,  9, 11,  7, 13, 11, 16])"
      ]
     },
     "execution_count": 67,
     "metadata": {},
     "output_type": "execute_result"
    }
   ],
   "source": [
    "array3"
   ]
  },
  {
   "cell_type": "code",
   "execution_count": 68,
   "id": "6d906fce",
   "metadata": {},
   "outputs": [],
   "source": [
    "array4 = array*array2"
   ]
  },
  {
   "cell_type": "code",
   "execution_count": 69,
   "id": "2213166b",
   "metadata": {},
   "outputs": [
    {
     "data": {
      "text/plain": [
       "array([ 4, 10, 18, 28, 10, 42, 28, 64])"
      ]
     },
     "execution_count": 69,
     "metadata": {},
     "output_type": "execute_result"
    }
   ],
   "source": [
    "array4"
   ]
  },
  {
   "cell_type": "code",
   "execution_count": 70,
   "id": "646efef2",
   "metadata": {},
   "outputs": [],
   "source": [
    "array5 = array-array2"
   ]
  },
  {
   "cell_type": "code",
   "execution_count": 71,
   "id": "df79ec9e",
   "metadata": {},
   "outputs": [
    {
     "data": {
      "text/plain": [
       "array([-3, -3, -3, -3,  3, -1,  3,  0])"
      ]
     },
     "execution_count": 71,
     "metadata": {},
     "output_type": "execute_result"
    }
   ],
   "source": [
    "array5"
   ]
  },
  {
   "cell_type": "code",
   "execution_count": 72,
   "id": "3ff0e816",
   "metadata": {},
   "outputs": [],
   "source": [
    "array6 = array/array2"
   ]
  },
  {
   "cell_type": "code",
   "execution_count": 73,
   "id": "8eb35e88",
   "metadata": {},
   "outputs": [
    {
     "data": {
      "text/plain": [
       "array([0.25      , 0.4       , 0.5       , 0.57142857, 2.5       ,\n",
       "       0.85714286, 1.75      , 1.        ])"
      ]
     },
     "execution_count": 73,
     "metadata": {},
     "output_type": "execute_result"
    }
   ],
   "source": [
    "array6"
   ]
  },
  {
   "cell_type": "markdown",
   "id": "1b87151a",
   "metadata": {},
   "source": [
    "# RANDOM NUMBER "
   ]
  },
  {
   "cell_type": "code",
   "execution_count": 99,
   "id": "1c2bf981",
   "metadata": {},
   "outputs": [],
   "source": [
    "random = np.random.randn(4,3)"
   ]
  },
  {
   "cell_type": "code",
   "execution_count": 100,
   "id": "b28d5641",
   "metadata": {},
   "outputs": [
    {
     "data": {
      "text/plain": [
       "array([[ 0.59370083,  0.60530481, -1.33041212],\n",
       "       [-0.98346689,  0.27773487, -0.320655  ],\n",
       "       [-0.38203357,  0.11154035, -1.64257972],\n",
       "       [ 1.67407817,  0.7958533 , -0.32483813]])"
      ]
     },
     "execution_count": 100,
     "metadata": {},
     "output_type": "execute_result"
    }
   ],
   "source": [
    "random"
   ]
  },
  {
   "cell_type": "code",
   "execution_count": 135,
   "id": "31dbe4e4",
   "metadata": {},
   "outputs": [],
   "source": [
    "random1 = np.random.rand(4,3)"
   ]
  },
  {
   "cell_type": "code",
   "execution_count": 136,
   "id": "042288db",
   "metadata": {},
   "outputs": [
    {
     "data": {
      "text/plain": [
       "array([[0.7637347 , 0.53695018, 0.76529261],\n",
       "       [0.72442411, 0.94938854, 0.86412191],\n",
       "       [0.44250435, 0.58200207, 0.45114452],\n",
       "       [0.43388307, 0.75907833, 0.75648887]])"
      ]
     },
     "execution_count": 136,
     "metadata": {},
     "output_type": "execute_result"
    }
   ],
   "source": [
    "random1"
   ]
  },
  {
   "cell_type": "markdown",
   "id": "243f5ec3",
   "metadata": {},
   "source": [
    "# RANDOM NUMBERS GENERATION AND SORTING"
   ]
  },
  {
   "cell_type": "code",
   "execution_count": 121,
   "id": "2eaa0b33",
   "metadata": {},
   "outputs": [],
   "source": [
    "random_number = np.random.randint(10,20, size=10)"
   ]
  },
  {
   "cell_type": "code",
   "execution_count": 127,
   "id": "96aec1b1",
   "metadata": {},
   "outputs": [
    {
     "data": {
      "text/plain": [
       "array([12, 17, 13, 13, 19, 18, 11, 13, 17, 10])"
      ]
     },
     "execution_count": 127,
     "metadata": {},
     "output_type": "execute_result"
    }
   ],
   "source": [
    "random_number"
   ]
  },
  {
   "cell_type": "code",
   "execution_count": 128,
   "id": "9f044729",
   "metadata": {},
   "outputs": [
    {
     "data": {
      "text/plain": [
       "array([10, 11, 12, 13, 13, 13, 17, 17, 18, 19])"
      ]
     },
     "execution_count": 128,
     "metadata": {},
     "output_type": "execute_result"
    }
   ],
   "source": [
    "np.sort(random_number)"
   ]
  },
  {
   "cell_type": "code",
   "execution_count": 129,
   "id": "9ee20bda",
   "metadata": {},
   "outputs": [
    {
     "data": {
      "text/plain": [
       "1.6740781665973599"
      ]
     },
     "execution_count": 129,
     "metadata": {},
     "output_type": "execute_result"
    }
   ],
   "source": [
    "np.max(random)"
   ]
  },
  {
   "cell_type": "code",
   "execution_count": 130,
   "id": "cb212cca",
   "metadata": {},
   "outputs": [
    {
     "data": {
      "text/plain": [
       "-1.64257972187533"
      ]
     },
     "execution_count": 130,
     "metadata": {},
     "output_type": "execute_result"
    }
   ],
   "source": [
    "np.min(random)"
   ]
  },
  {
   "cell_type": "code",
   "execution_count": 137,
   "id": "47125c02",
   "metadata": {},
   "outputs": [
    {
     "data": {
      "text/plain": [
       "array([[False,  True, False],\n",
       "       [False, False, False],\n",
       "       [False, False, False],\n",
       "       [ True,  True, False]])"
      ]
     },
     "execution_count": 137,
     "metadata": {},
     "output_type": "execute_result"
    }
   ],
   "source": [
    "random>random1"
   ]
  },
  {
   "cell_type": "code",
   "execution_count": 141,
   "id": "ba3a21ff",
   "metadata": {},
   "outputs": [
    {
     "name": "stdout",
     "output_type": "stream",
     "text": [
      "[1.67407817]\n"
     ]
    }
   ],
   "source": [
    "print(random[random>1])"
   ]
  }
 ],
 "metadata": {
  "kernelspec": {
   "display_name": "Python 3 (ipykernel)",
   "language": "python",
   "name": "python3"
  },
  "language_info": {
   "codemirror_mode": {
    "name": "ipython",
    "version": 3
   },
   "file_extension": ".py",
   "mimetype": "text/x-python",
   "name": "python",
   "nbconvert_exporter": "python",
   "pygments_lexer": "ipython3",
   "version": "3.9.13"
  }
 },
 "nbformat": 4,
 "nbformat_minor": 5
}
